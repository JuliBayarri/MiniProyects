{
 "cells": [
  {
   "cell_type": "markdown",
   "metadata": {},
   "source": [
    "Este es un programa simple que traduce secuencias de ADN a proteinas.\n",
    "Convierte una secuenca de nucleotidos en una lista que contiene cada aminoácido codificado por la secuencia proporcionada"
   ]
  },
  {
   "cell_type": "code",
   "execution_count": 25,
   "metadata": {},
   "outputs": [
    {
     "name": "stdout",
     "output_type": "stream",
     "text": [
      "ATGCCGGCTCATGATCATGGTCAATGCATGGAA\n"
     ]
    }
   ],
   "source": [
    "sec = input(\"Ingrese su secuencia: \")\n",
    "sec = sec.upper()\n",
    "print(sec)\n"
   ]
  },
  {
   "cell_type": "code",
   "execution_count": 26,
   "metadata": {},
   "outputs": [
    {
     "name": "stdout",
     "output_type": "stream",
     "text": [
      "['ATG', 'CCG', 'GCT', 'CAT', 'GAT', 'CAT', 'GGT', 'CAA', 'TGC', 'ATG', 'GAA']\n"
     ]
    }
   ],
   "source": [
    "codigo = {\n",
    "    'GCT': 'Ala', 'GCC': 'Ala', 'GCA': 'Ala', 'GCG': 'Ala',\n",
    "    'AAA': 'Lys', 'AAG': 'Lys',\n",
    "    'CGT': 'Arg', 'CGC': 'Arg', 'CGA': 'Arg', 'CGG': 'Arg', 'AGA': 'Arg', 'AGG': 'Arg',\n",
    "    'ATG': 'Met',\n",
    "    'AAT': 'Asn', 'AAC': 'Asn',\n",
    "    'TTT': 'Phe', 'TTC': 'Phe',\n",
    "    'GAT': 'Asp', 'GAC': 'Asp',\n",
    "    'CCT': 'Pro', 'CCC': 'Pro', 'CCA': 'Pro', 'CCG': 'Pro',\n",
    "    'TGT': 'Cys', 'TGC': 'Cys',\n",
    "    'TGA': 'Sec',\n",
    "    'CAA': 'Gln', 'CAG': 'Gln',\n",
    "    'TCT': 'Ser', 'TCC': 'Ser', 'TCA': 'Ser', 'TCG': 'Ser', 'AGT': 'Ser', 'AGC': 'Ser',\n",
    "    'GAA': 'Glu', 'GAG': 'Glu',\n",
    "    'ACT': 'Thr', 'ACC': 'Thr', 'ACA': 'Thr', 'ACG': 'Thr',\n",
    "    'GGT': 'Gly', 'GGC': 'Gly', 'GGA': 'Gly', 'GGG': 'Gly',\n",
    "    'TGG': 'Trp',\n",
    "    'CAT': 'His', 'CAC': 'His',\n",
    "    'TAT': 'Tyr', 'TAC': 'Tyr',\n",
    "    'ATT': 'Ile', 'ATC': 'Ile', 'ATA': 'Ile',\n",
    "    'GTT': 'Val', 'GTC': 'Val', 'GTA': 'Val', 'GTG': 'Val',\n",
    "    'TTA': 'Leu', 'TTG': 'Leu', 'CTT': 'Leu', 'CTC': 'Leu', 'CTA': 'Leu', 'CTG': 'Leu',\n",
    "    'TAG': 'stop', 'TGA': 'stop', 'TAA': 'stop'\n",
    "}\n",
    "\n",
    "codones = [sec[i:i+3] for i in range(0, len(sec), 3)]\n",
    "print(codones)\n"
   ]
  },
  {
   "cell_type": "code",
   "execution_count": 30,
   "metadata": {},
   "outputs": [
    {
     "name": "stdout",
     "output_type": "stream",
     "text": [
      "['Met', 'Pro', 'Ala', 'His', 'Asp', 'His', 'Gly', 'Gln', 'Cys', 'Met', 'Glu']\n"
     ]
    }
   ],
   "source": [
    "traduccion = []\n",
    "for i in codones:\n",
    "    if i in codigo:\n",
    "        traduccion.append(codigo[i])\n",
    "    \n",
    "print(traduccion)"
   ]
  }
 ],
 "metadata": {
  "kernelspec": {
   "display_name": "Python 3",
   "language": "python",
   "name": "python3"
  },
  "language_info": {
   "codemirror_mode": {
    "name": "ipython",
    "version": 3
   },
   "file_extension": ".py",
   "mimetype": "text/x-python",
   "name": "python",
   "nbconvert_exporter": "python",
   "pygments_lexer": "ipython3",
   "version": "3.12.5"
  }
 },
 "nbformat": 4,
 "nbformat_minor": 2
}
